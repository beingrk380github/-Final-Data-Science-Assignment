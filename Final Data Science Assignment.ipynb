{
 "cells": [
  {
   "cell_type": "code",
   "execution_count": null,
   "id": "841fa0ed",
   "metadata": {},
   "outputs": [],
   "source": []
  },
  {
   "cell_type": "markdown",
   "id": "9c6ddfe2",
   "metadata": {},
   "source": [
    " Tools for Data Science Final Project\n",
    "📌 Introduction\n",
    "In this notebook, we will explore some basic concepts related to Data Science.\n",
    "We will list popular languages, libraries, and tools used by data scientists and perform simple arithmetic operations.\n",
    "\n",
    "📚 Data Science Languages\n",
    "Here are some of the most popular languages used in Data Science:\n",
    "\n",
    "Python\n",
    "\n",
    "R\n",
    "\n",
    "SQL\n",
    "\n",
    "Java\n",
    "\n",
    "Scala\n",
    "\n",
    "Julia\n",
    "\n",
    "📚 Data Science Libraries\n",
    "Some of the key libraries used by Data Scientists are:\n",
    "\n",
    "Pandas\n",
    "\n",
    "NumPy\n",
    "\n",
    "Matplotlib\n",
    "\n",
    "Seaborn\n",
    "\n",
    "Scikit-learn\n",
    "\n",
    "TensorFlow\n",
    "\n",
    "🛠️ Data Science Tools\n",
    "\n",
    "Tool\tDescription\n",
    "Jupyter\tWeb-based IDE for notebooks\n",
    "RStudio\tIDE for R programming\n",
    "VS Code\tCode editor with many extensions\n",
    "Apache Zeppelin\tWeb-based notebook for big data\n",
    "Tableau\tData visualization tool\n",
    "🧮 Arithmetic Expression Examples\n",
    "Below are some examples of simple arithmetic operations like multiplication and addition."
   ]
  },
  {
   "cell_type": "code",
   "execution_count": null,
   "id": "dc290c4a",
   "metadata": {},
   "outputs": [],
   "source": [
    "# Multiply 6 and 7, then add 5\n",
    "(6 * 7) + 5\n"
   ]
  },
  {
   "cell_type": "code",
   "execution_count": null,
   "id": "dd74eaa2",
   "metadata": {},
   "outputs": [],
   "source": [
    "# Convert 200 minutes into hours\n",
    "minutes = 200\n",
    "hours = minutes / 60\n",
    "hours\n"
   ]
  }
 ],
 "metadata": {
  "language_info": {
   "name": "python"
  }
 },
 "nbformat": 4,
 "nbformat_minor": 5
}
